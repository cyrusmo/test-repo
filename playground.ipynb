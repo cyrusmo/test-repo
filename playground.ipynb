{
 "cells": [
  {
   "cell_type": "code",
   "execution_count": 14,
   "metadata": {},
   "outputs": [
    {
     "name": "stdout",
     "output_type": "stream",
     "text": [
      "Hello world!\n",
      "test\n",
      "['test', 'test', 'test', 'test', 'test']\n",
      "['green', 'yellow', 'brown']\n",
      "{'green': 'unripe', 'yellow': 'ripe', 'brown': 'overripe'}\n"
     ]
    }
   ],
   "source": [
    "import numpy as np\n",
    "import pandas as pd\n",
    "\n",
    "s = 'test'\n",
    "arr = [s]*5\n",
    "dict_t = {\"fruit\" : 'banana',\n",
    "\"color\": ['green', 'yellow', 'brown'],\n",
    "\"price\": 2}\n",
    "\n",
    "ripe = {color: ripeness for color, ripeness in zip(dict_t['color'], ['unripe', 'ripe', 'overripe'])}\n",
    "\n",
    "\n",
    "print ('Hello world!')\n",
    "print (f'{s}')\n",
    "print (arr)\n",
    "print (dict_t['color'])\n",
    "print (ripe)"
   ]
  },
  {
   "cell_type": "code",
   "execution_count": null,
   "metadata": {},
   "outputs": [],
   "source": []
  }
 ],
 "metadata": {
  "kernelspec": {
   "display_name": "Python 3",
   "language": "python",
   "name": "python3"
  },
  "language_info": {
   "codemirror_mode": {
    "name": "ipython",
    "version": 3
   },
   "file_extension": ".py",
   "mimetype": "text/x-python",
   "name": "python",
   "nbconvert_exporter": "python",
   "pygments_lexer": "ipython3",
   "version": "3.7.2"
  }
 },
 "nbformat": 4,
 "nbformat_minor": 2
}
